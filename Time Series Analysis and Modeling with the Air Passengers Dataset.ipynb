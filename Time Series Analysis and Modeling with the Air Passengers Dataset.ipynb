{
 "cells": [
  {
   "cell_type": "markdown",
   "metadata": {},
   "source": [
    "# Time Series Analysis and Modeling with the Air Passengers Dataset\n",
    "\n",
    "## Synopsis\n",
    "This objective of this analysis and modelling is to review time series theory and experiment with R packages.\n",
    "\n",
    "We will be following an ARIMA modeling procedure of the AirPassengers dataset as follows:\n",
    "1. Perform exploratory data analysis\n",
    "2. Decomposition of data\n",
    "3. Test the stationarity\n",
    "4. Fit a model used an automated algorithm\n",
    "5. Calculate forecasts\n",
    "\n",
    "## Setup\n",
    "LOAD PACKAGES"
   ]
  },
  {
   "cell_type": "code",
   "execution_count": null,
   "metadata": {},
   "outputs": [],
   "source": [
    "from random import randrange\n",
    "from pandas import Series\n",
    "from matplotlib import pyplot\n",
    "from statsmodels.tsa.seasonal import seasonal_decompose\n",
    "from pandas import Series\n",
    "\n",
    "import numpy as np\n",
    "import matplotlib.pyplot as plt"
   ]
  },
  {
   "cell_type": "markdown",
   "metadata": {},
   "source": [
    "LOAD DATA"
   ]
  },
  {
   "cell_type": "code",
   "execution_count": null,
   "metadata": {},
   "outputs": [],
   "source": []
  }
 ],
 "metadata": {
  "kernelspec": {
   "display_name": "Python 2",
   "language": "python",
   "name": "python2"
  },
  "language_info": {
   "codemirror_mode": {
    "name": "ipython",
    "version": 2
   },
   "file_extension": ".py",
   "mimetype": "text/x-python",
   "name": "python",
   "nbconvert_exporter": "python",
   "pygments_lexer": "ipython2",
   "version": "2.7.15"
  }
 },
 "nbformat": 4,
 "nbformat_minor": 2
}
